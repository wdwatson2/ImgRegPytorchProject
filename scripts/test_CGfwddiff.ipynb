{
 "cells": [
  {
   "cell_type": "code",
   "execution_count": 1,
   "metadata": {},
   "outputs": [],
   "source": [
    "# Import python directory\n",
    "import sys\n",
    "sys.path.append('..')\n",
    "\n",
    "import torch\n",
    "from PIL import Image\n",
    "import matplotlib.pyplot as plt\n",
    "from src.domain import Domain\n",
    "from src.interpolation import SplineInter\n",
    "from src.transformations import Affine2d\n",
    "from src.plotting import view_image_2d, plot_grid_2d\n",
    "from src.super_resolution_tools import *\n",
    "from src.transformations import Affine2d\n",
    "from src.LinearOperator import LinearOperator\n",
    "from src.lanczos import lanczos_tridiag\n",
    "# from src.conjugate_gradient import conjugate_gradient\n",
    "from src.utils import * \n",
    "from src.optimization import *\n",
    "import torch.func as func\n",
    "from src.distance import SSDDistance\n",
    "import time\n",
    "\n",
    "torch.set_default_dtype(torch.float64)"
   ]
  },
  {
   "cell_type": "code",
   "execution_count": 2,
   "metadata": {},
   "outputs": [],
   "source": [
    "def show_reference_and_templates(R, T):\n",
    "\n",
    "    # Determine the layout for the subplots\n",
    "    num_images = 1 + T.shape[0]  # Total number of images (reference + targets)\n",
    "    cols = int(torch.ceil(torch.sqrt(torch.tensor(num_images).float())))  # Number of columns (and rows in a square layout)\n",
    "    rows = int(torch.ceil(torch.tensor(num_images).float() / cols))  # Number of rows needed to accommodate all images\n",
    "\n",
    "    # Create the figure with subplots\n",
    "    _, ax = plt.subplots(rows, cols, figsize=(2*cols, 2*rows))\n",
    "\n",
    "    # Flatten the ax array for easier indexing\n",
    "    ax = ax.flatten()\n",
    "\n",
    "    # Display the reference image\n",
    "    ax[0].imshow(R.detach().T.flip(dims=(0,)), cmap='gray')  # Convert tensor to NumPy array for imshow\n",
    "    ax[0].set_title('Reference')\n",
    "    ax[0].axis('off')  # Optional: hide axes for cleaner visualization\n",
    "\n",
    "    # Display the target images\n",
    "    for k in range(T.shape[0]):\n",
    "        ax[k + 1].imshow(T[k].detach().T.flip(dims=(0,)), cmap='gray')  # Convert tensor to NumPy array for imshow\n",
    "        ax[k + 1].set_title(f'T_{k}')\n",
    "        ax[k + 1].axis('off')  # Optional: hide axes for cleaner visualization\n",
    "\n",
    "    # Turn off any unused subplots\n",
    "    for i in range(1 + T.shape[0], len(ax)):\n",
    "        ax[i].axis('off')\n",
    "\n",
    "    plt.tight_layout()  # Adjust subplots to fit into the figure area nicely\n",
    "    plt.show()"
   ]
  },
  {
   "cell_type": "code",
   "execution_count": 3,
   "metadata": {},
   "outputs": [
    {
     "data": {
      "image/png": "[encoded data removed]",
      "text/plain": [
       "<Figure size 400x400 with 4 Axes>"
      ]
     },
     "metadata": {},
     "output_type": "display_data"
    }
   ],
   "source": [
    "m = 32\n",
    "factor = 2\n",
    "theta = 0\n",
    "n_images = 2\n",
    "\n",
    "domain_R = Domain(torch.tensor((0, 20, 0, 25)), torch.tensor((m, m)))\n",
    "domain_R.m.detach()\n",
    "domain_T = Domain(torch.tensor((0, 20, 0, 25)), torch.tensor((m//factor, m//factor)))\n",
    "xc = domain_R.getCellCenteredGrid().view(-1, 2).to(torch.float64)\n",
    "times = torch.linspace(0, 15, n_images)\n",
    "\n",
    "R = Image.open('../data/hands-R.jpg')\n",
    "R = R.resize((m, m))\n",
    "R = torch.fliplr(torch.tensor(R.getdata(), dtype=torch.float64).view(m,m).transpose(0,1))\n",
    "Rimg = SplineInter(R, domain_R ,regularizer='moments',theta=theta).to(torch.float64)\n",
    "\n",
    "def randomAffines(reference, n):\n",
    "    affines = [getRandomAffine(rotation_range=(0,45),seed=_+2) for _ in range(n-1)]\n",
    "    templates = [down_sample(reference(xc).reshape(m, m), factor)]\n",
    "    for aff in affines:\n",
    "        affine = Affine2d()\n",
    "        affine.A = torch.nn.Parameter(aff[0].to(torch.float64))\n",
    "        affine.b = torch.nn.Parameter(aff[1].to(torch.float64))\n",
    "        templates.append(down_sample(reference(affine(xc)).reshape(m, m), factor))\n",
    "    return torch.stack(templates)\n",
    "\n",
    "T = randomAffines(Rimg, len(times))\n",
    "\n",
    "show_reference_and_templates(R, T)"
   ]
  },
  {
   "cell_type": "code",
   "execution_count": 4,
   "metadata": {},
   "outputs": [],
   "source": [
    "def L_forward(f):\n",
    "    reference = f.reshape(*domain_R.m)\n",
    "    diff_0 = torch.diff(reference, dim = 0) / domain_R.h[0]\n",
    "    diff_1 = torch.diff(reference, dim = 1) / domain_R.h[1]\n",
    "    return torch.hstack([diff_0.flatten(), diff_1.flatten()])\n",
    "\n",
    "L = LinearOperator((torch.prod(domain_R.m).item(),), forward_fun=L_forward, dtype = torch.float64)\n",
    "\n",
    "def K_forward(f):\n",
    "    reference = f.reshape(*domain_R.m)\n",
    "    downsampled = down_sample(reference, factor).flatten()\n",
    "    return downsampled.flatten() \n",
    "\n",
    "K = LinearOperator((torch.prod(domain_R.m).item(),), forward_fun=K_forward, dtype = torch.float64)\n",
    "# f0_interp = K.T @ T[0].flatten().detach()\n",
    "Timg = SplineInter(T[0].detach(),domain_T, regularizer='moments', theta=1e-2)\n",
    "f0_interp = Timg(domain_R.getCellCenteredGrid()).flatten()\n",
    "\n",
    "d = T.flatten()\n",
    "b = torch.hstack([d * torch.sqrt(torch.prod(domain_T.h)), torch.zeros_like(L @ f0_interp)])"
   ]
  },
  {
   "cell_type": "code",
   "execution_count": 5,
   "metadata": {},
   "outputs": [
    {
     "data": {
      "text/plain": [
       "<matplotlib.image.AxesImage at 0x7020d5b67250>"
      ]
     },
     "execution_count": 5,
     "metadata": {},
     "output_type": "execute_result"
    },
    {
     "data": {
      "image/png": "[encoded data removed]",
      "text/plain": [
       "<Figure size 640x480 with 1 Axes>"
      ]
     },
     "metadata": {},
     "output_type": "display_data"
    }
   ],
   "source": [
    "view_image_2d(f0_interp, domain_R)"
   ]
  },
  {
   "cell_type": "code",
   "execution_count": 6,
   "metadata": {},
   "outputs": [],
   "source": [
    "xc_2d = domain_R.getCellCenteredGrid()\n",
    "xc = xc_2d.reshape(torch.prod(domain_R.m).item(),2).detach()\n",
    "\n",
    "ys = [Affine2d() for _ in range(n_images)]\n",
    "for y in ys:\n",
    "    for param in y.parameters():\n",
    "        param.to(torch.float64)\n",
    "        param.requires_grad_(True)\n",
    "\n",
    "lam = 1e-2\n",
    "\n",
    "wps = [{k: v for k, v in y.named_parameters()} for y in ys]\n",
    "keys_list = [wp.keys() for wp in wps]\n",
    "\n",
    "flat_params_list, shapes_list, sizes_list = flatten_params_list(wps)\n",
    "wp_vec0 = torch.stack(flat_params_list).flatten().unsqueeze(1)\n"
   ]
  },
  {
   "cell_type": "code",
   "execution_count": 7,
   "metadata": {},
   "outputs": [],
   "source": [
    "f0_grad = None\n",
    "f0_nograd = None\n",
    "def conjugate_gradient(A, b, x0, max_iter=500, tol=1e-10):\n",
    "    x = x0.clone()\n",
    "    r = b - A(x)\n",
    "    p = r.clone()\n",
    "    rsold = r.dot(r)\n",
    "        \n",
    "    for i in range(max_iter):\n",
    "        Ap = A(p)\n",
    "        alpha = rsold / p.dot(Ap)\n",
    "        x = x + alpha * p  \n",
    "        r = r - alpha * Ap  \n",
    "        rsnew = r.dot(r)\n",
    "        if torch.sqrt(rsnew) < tol:\n",
    "            # print(f\"tol reached {i}\")\n",
    "            break\n",
    "        p = r + (rsnew / rsold) * p\n",
    "        rsold = rsnew\n",
    "    print(f\"residual norm: {torch.sqrt(rsnew)}\")\n",
    "    return x\n",
    "    \n",
    "\n",
    "def conjugate_gradient_nograd(A, b, x0, max_iter=500, tol=1e-10):\n",
    "    with torch.no_grad():\n",
    "        return conjugate_gradient(A, b, x0, max_iter, tol)\n",
    "        \n",
    "\n",
    "def Forward_single(wp, y, f_inter):\n",
    "    w_dict = unflatten_params(wp, keys_list[0], shapes_list[0], sizes_list[0])\n",
    "    yc = func.functional_call(y, w_dict, xc)\n",
    "    d_pred = K(f_inter(yc))\n",
    "    return d_pred\n",
    "\n",
    "def res_fn(wp_vec, cg_iter):\n",
    "    def A_forward(f):\n",
    "        reference = f.reshape(*domain_R.m)        \n",
    "        reference_img = SplineInter(reference, domain_R).to(torch.float64)\n",
    "        template_predictions = torch.hstack([Forward_single(wp_vec.reshape(-1,6)[j], ys[j], reference_img)[0] for j in range(n_images)])\n",
    "        lam = 0.0\n",
    "        regularizer = lam * L(f)\n",
    "        \n",
    "        return torch.hstack([template_predictions * torch.sqrt(torch.prod(domain_T.h)),\n",
    "                                regularizer * torch.sqrt(torch.prod(domain_R.h))])\n",
    "    \n",
    "    A = LinearOperator((torch.prod(domain_R.m).item(),), forward_fun = A_forward, dtype = torch.float64)\n",
    "\n",
    "    # f0 = conjugate_gradient(A.T ^ A, A.T @ b, f0_interp, max_iter=cg_iter)\n",
    "    f0 = A_forward(f0_interp)\n",
    "    # reference = f0.reshape(*domain_R.m)        \n",
    "    # reference_img = SplineInter(reference, domain_R).to(torch.float64)\n",
    "    # template_predictions = torch.hstack([Forward_single(wp_vec.reshape(-1,6)[j], ys[j], reference_img)[0] for j in range(n_images)])\n",
    "\n",
    "    return f0\n",
    "\n",
    "def Jac_fn(wp_vec, cg_iter):\n",
    "    return func.jacfwd(res_fn)(wp_vec, cg_iter).detach().squeeze()\n",
    "\n"
   ]
  },
  {
   "cell_type": "code",
   "execution_count": 8,
   "metadata": {},
   "outputs": [
    {
     "name": "stderr",
     "output_type": "stream",
     "text": [
      "/tmp/ipykernel_150700/1132697583.py:63: OptimizeWarning: Unknown solver options: gtol\n",
      "  results = minimize(scipy_loss, x0=tensor_to_numpy(wp_vec0).flatten(), method='newton-cg',\n"
     ]
    },
    {
     "name": "stdout",
     "output_type": "stream",
     "text": [
      "1 - Current Loss: 1.0341573472e+03, Norm of Gradient: 6.4667155352e+01\n",
      "2 - Current Loss: 1.0235182400e+03, Norm of Gradient: 5.0872420758e+01\n",
      "3 - Current Loss: 1.0208951590e+03, Norm of Gradient: 1.1219834329e+01\n",
      "4 - Current Loss: 1.0160351637e+03, Norm of Gradient: 9.7169200019e+00\n",
      "5 - Current Loss: 1.0089708615e+03, Norm of Gradient: 8.2043556299e+00\n",
      "6 - Current Loss: 1.0086494288e+03, Norm of Gradient: 2.6377882097e+00\n",
      "7 - Current Loss: 1.0080931488e+03, Norm of Gradient: 1.8431323379e+00\n",
      "8 - Current Loss: 1.0075254915e+03, Norm of Gradient: 9.6240911806e-01\n",
      "9 - Current Loss: 1.0075251467e+03, Norm of Gradient: 3.8686833385e-01\n",
      "10 - Current Loss: 1.0074699694e+03, Norm of Gradient: 3.4137838341e-01\n",
      "11 - Current Loss: 1.0070837981e+03, Norm of Gradient: 9.1693287467e+00\n",
      "12 - Current Loss: 1.0069017459e+03, Norm of Gradient: 4.8538063527e+00\n",
      "13 - Current Loss: 1.0068472025e+03, Norm of Gradient: 5.4070891902e-01\n",
      "14 - Current Loss: 1.0064000403e+03, Norm of Gradient: 5.9006950135e+00\n",
      "15 - Current Loss: 1.0063556586e+03, Norm of Gradient: 4.5517206414e-01\n",
      "16 - Current Loss: 1.0062863931e+03, Norm of Gradient: 2.7038099306e-01\n",
      "17 - Current Loss: 1.0061575381e+03, Norm of Gradient: 6.5597774166e-01\n",
      "18 - Current Loss: 1.0061569186e+03, Norm of Gradient: 2.4454415079e-01\n",
      "19 - Current Loss: 1.0060606829e+03, Norm of Gradient: 4.6844889515e-01\n",
      "20 - Current Loss: 1.0059354315e+03, Norm of Gradient: 2.3765795794e+00\n",
      "21 - Current Loss: 1.0059291709e+03, Norm of Gradient: 2.9805864957e-01\n",
      "22 - Current Loss: 1.0059193805e+03, Norm of Gradient: 1.6734584935e-01\n",
      "23 - Current Loss: 1.0059097950e+03, Norm of Gradient: 1.0625336000e-01\n",
      "24 - Current Loss: 1.0058936400e+03, Norm of Gradient: 1.3589540272e-01\n",
      "25 - Current Loss: 1.0058899641e+03, Norm of Gradient: 5.0748395879e-02\n",
      "26 - Current Loss: 1.0058835309e+03, Norm of Gradient: 5.7903572012e-02\n",
      "27 - Current Loss: 1.0058763311e+03, Norm of Gradient: 2.5995221253e-01\n",
      "28 - Current Loss: 1.0058762665e+03, Norm of Gradient: 1.4657748185e-02\n",
      "29 - Current Loss: 1.0058761567e+03, Norm of Gradient: 1.0264649809e-02\n",
      "30 - Current Loss: 1.0058760297e+03, Norm of Gradient: 4.3426305093e-03\n",
      "31 - Current Loss: 1.0058760270e+03, Norm of Gradient: 2.4010279002e-04\n",
      "32 - Current Loss: 1.0058760269e+03, Norm of Gradient: 9.9182427940e-06\n",
      "33 - Current Loss: 1.0058760269e+03, Norm of Gradient: 2.5833840891e-08\n"
     ]
    },
    {
     "data": {
      "image/png": "[encoded data removed]",
      "text/plain": [
       "<Figure size 400x400 with 4 Axes>"
      ]
     },
     "metadata": {},
     "output_type": "display_data"
    },
    {
     "name": "stdout",
     "output_type": "stream",
     "text": [
      "1 - Current Loss: 6.6069841616e+02, Norm of Gradient: 1.8457046393e+02\n",
      "2 - Current Loss: 6.4257194024e+02, Norm of Gradient: 6.6432086063e+01\n",
      "3 - Current Loss: 6.3913464579e+02, Norm of Gradient: 2.5248246586e+01\n",
      "4 - Current Loss: 6.3309333927e+02, Norm of Gradient: 1.9224874493e+01\n",
      "5 - Current Loss: 6.2697558768e+02, Norm of Gradient: 1.3124211377e+01\n",
      "6 - Current Loss: 6.2696051305e+02, Norm of Gradient: 4.8260100479e+00\n",
      "7 - Current Loss: 6.2468023113e+02, Norm of Gradient: 1.1090217775e+01\n",
      "8 - Current Loss: 6.2460289088e+02, Norm of Gradient: 3.5595052546e+00\n",
      "9 - Current Loss: 6.2390424998e+02, Norm of Gradient: 3.1629436913e+00\n",
      "10 - Current Loss: 6.2389139457e+02, Norm of Gradient: 1.3158386745e+00\n",
      "11 - Current Loss: 6.2342811958e+02, Norm of Gradient: 1.6921755682e+00\n",
      "12 - Current Loss: 6.2313235760e+02, Norm of Gradient: 5.3898995168e+00\n",
      "13 - Current Loss: 6.2311451842e+02, Norm of Gradient: 8.0640287015e-01\n",
      "14 - Current Loss: 6.2308442420e+02, Norm of Gradient: 5.4096281813e-01\n",
      "15 - Current Loss: 6.2305971310e+02, Norm of Gradient: 6.4208558155e-02\n",
      "16 - Current Loss: 6.2305943143e+02, Norm of Gradient: 1.3909182851e-02\n",
      "17 - Current Loss: 6.2305923292e+02, Norm of Gradient: 2.6741027276e-03\n",
      "18 - Current Loss: 6.2305923291e+02, Norm of Gradient: 1.0409126415e-05\n"
     ]
    },
    {
     "data": {
      "image/png": "[encoded data removed]",
      "text/plain": [
       "<Figure size 400x400 with 4 Axes>"
      ]
     },
     "metadata": {},
     "output_type": "display_data"
    },
    {
     "name": "stdout",
     "output_type": "stream",
     "text": [
      "1 - Current Loss: 5.2282815450e+02, Norm of Gradient: 5.0588961090e+02\n",
      "2 - Current Loss: 4.8231573142e+02, Norm of Gradient: 2.0298132326e+02\n",
      "3 - Current Loss: 4.7355452268e+02, Norm of Gradient: 5.8255797833e+01\n",
      "4 - Current Loss: 4.5754182472e+02, Norm of Gradient: 5.0810750064e+01\n",
      "5 - Current Loss: 4.3899265291e+02, Norm of Gradient: 5.3144297949e+01\n",
      "6 - Current Loss: 4.3889970070e+02, Norm of Gradient: 2.0024228049e+01\n",
      "7 - Current Loss: 4.2539574819e+02, Norm of Gradient: 2.7213076946e+01\n",
      "8 - Current Loss: 4.2523241884e+02, Norm of Gradient: 9.4614424316e+00\n",
      "9 - Current Loss: 4.2367713435e+02, Norm of Gradient: 8.4547988655e+00\n",
      "10 - Current Loss: 4.2103878635e+02, Norm of Gradient: 6.7773561713e+00\n",
      "11 - Current Loss: 4.1954018810e+02, Norm of Gradient: 7.6004978483e+00\n",
      "12 - Current Loss: 4.1923011751e+02, Norm of Gradient: 2.6784489537e+00\n",
      "13 - Current Loss: 4.1922880416e+02, Norm of Gradient: 6.3741601025e-01\n",
      "14 - Current Loss: 4.1921772368e+02, Norm of Gradient: 4.4262928473e-01\n",
      "15 - Current Loss: 4.1920319330e+02, Norm of Gradient: 1.5164905103e-01\n",
      "16 - Current Loss: 4.1920123194e+02, Norm of Gradient: 9.4616904815e-03\n",
      "17 - Current Loss: 4.1920122864e+02, Norm of Gradient: 1.0863390912e-03\n",
      "18 - Current Loss: 4.1920122858e+02, Norm of Gradient: 3.4649347156e-05\n",
      "19 - Current Loss: 4.1920122858e+02, Norm of Gradient: 5.3990914941e-09\n"
     ]
    },
    {
     "data": {
      "image/png": "[encoded data removed]",
      "text/plain": [
       "<Figure size 400x400 with 4 Axes>"
      ]
     },
     "metadata": {},
     "output_type": "display_data"
    },
    {
     "name": "stdout",
     "output_type": "stream",
     "text": [
      "1 - Current Loss: 6.1013540267e+02, Norm of Gradient: 1.3930109649e+03\n",
      "2 - Current Loss: 5.0690051229e+02, Norm of Gradient: 9.6258073761e+02\n",
      "3 - Current Loss: 4.4543870098e+02, Norm of Gradient: 4.0208782535e+02\n",
      "4 - Current Loss: 4.0682523345e+02, Norm of Gradient: 7.6613380533e+02\n",
      "5 - Current Loss: 3.8973479420e+02, Norm of Gradient: 2.4786716016e+02\n",
      "6 - Current Loss: 3.8285023626e+02, Norm of Gradient: 9.3571836710e+01\n",
      "7 - Current Loss: 3.3016124301e+02, Norm of Gradient: 1.2536527003e+02\n",
      "8 - Current Loss: 3.2851489678e+02, Norm of Gradient: 4.1521142217e+01\n",
      "9 - Current Loss: 2.6868579757e+02, Norm of Gradient: 3.0596715937e+02\n",
      "10 - Current Loss: 2.6769762897e+02, Norm of Gradient: 1.1005635367e+02\n",
      "11 - Current Loss: 2.6689598733e+02, Norm of Gradient: 1.8285089610e+01\n",
      "12 - Current Loss: 2.6541568063e+02, Norm of Gradient: 1.5617252562e+01\n",
      "13 - Current Loss: 2.6301483639e+02, Norm of Gradient: 1.2789653321e+01\n",
      "14 - Current Loss: 2.5999580441e+02, Norm of Gradient: 1.3204788476e+01\n",
      "15 - Current Loss: 2.5999240263e+02, Norm of Gradient: 6.4017192612e+00\n",
      "16 - Current Loss: 2.5987432212e+02, Norm of Gradient: 4.2318952160e+00\n",
      "17 - Current Loss: 2.5973702161e+02, Norm of Gradient: 2.0998961852e+00\n",
      "18 - Current Loss: 2.5967718993e+02, Norm of Gradient: 2.6735230840e-01\n",
      "19 - Current Loss: 2.5967718850e+02, Norm of Gradient: 6.3131169263e-02\n"
     ]
    },
    {
     "data": {
      "image/png": "[encoded data removed]",
      "text/plain": [
       "<Figure size 400x400 with 4 Axes>"
      ]
     },
     "metadata": {},
     "output_type": "display_data"
    },
    {
     "name": "stdout",
     "output_type": "stream",
     "text": [
      "1 - Current Loss: 4.9278670305e+02, Norm of Gradient: 6.6897816764e+02\n",
      "2 - Current Loss: 4.6342751264e+02, Norm of Gradient: 7.2432581210e+02\n",
      "3 - Current Loss: 4.3032001112e+02, Norm of Gradient: 9.2601289261e+02\n",
      "4 - Current Loss: 3.8660083650e+02, Norm of Gradient: 3.4228149765e+02\n",
      "5 - Current Loss: 3.7113587788e+02, Norm of Gradient: 3.7201449737e+02\n",
      "6 - Current Loss: 3.5935299905e+02, Norm of Gradient: 2.8047997112e+02\n",
      "7 - Current Loss: 3.4748050147e+02, Norm of Gradient: 1.6394822934e+02\n",
      "8 - Current Loss: 3.2464031314e+02, Norm of Gradient: 1.7436038449e+02\n",
      "9 - Current Loss: 2.8836805002e+02, Norm of Gradient: 7.6263016640e+01\n",
      "10 - Current Loss: 2.3958996344e+02, Norm of Gradient: 7.5226439795e+02\n",
      "11 - Current Loss: 2.2870499548e+02, Norm of Gradient: 7.0409729951e+02\n",
      "12 - Current Loss: 2.2437300258e+02, Norm of Gradient: 1.9992218331e+02\n",
      "13 - Current Loss: 2.2234679860e+02, Norm of Gradient: 8.1232429725e+01\n",
      "14 - Current Loss: 1.5186277235e+02, Norm of Gradient: 3.8930374859e+02\n",
      "15 - Current Loss: 1.4687573696e+02, Norm of Gradient: 1.1286937710e+02\n",
      "16 - Current Loss: 1.4014539623e+02, Norm of Gradient: 3.7383917662e+01\n",
      "17 - Current Loss: 1.3708264793e+02, Norm of Gradient: 1.4602421379e+01\n",
      "18 - Current Loss: 1.3669097362e+02, Norm of Gradient: 5.4562833722e+00\n",
      "19 - Current Loss: 1.3669012076e+02, Norm of Gradient: 2.0525712019e+00\n",
      "20 - Current Loss: 1.3668218965e+02, Norm of Gradient: 1.7349999237e+00\n",
      "21 - Current Loss: 1.3666909535e+02, Norm of Gradient: 1.1339400350e+00\n",
      "22 - Current Loss: 1.3665803949e+02, Norm of Gradient: 6.7299712551e-02\n",
      "23 - Current Loss: 1.3665803946e+02, Norm of Gradient: 1.4150279554e-02\n"
     ]
    },
    {
     "data": {
      "image/png": "[encoded data removed]",
      "text/plain": [
       "<Figure size 400x400 with 4 Axes>"
      ]
     },
     "metadata": {},
     "output_type": "display_data"
    },
    {
     "name": "stdout",
     "output_type": "stream",
     "text": [
      "1 - Current Loss: 5.4726774355e+02, Norm of Gradient: 1.2894488838e+03\n",
      "2 - Current Loss: 4.0858118188e+02, Norm of Gradient: 8.6012049875e+02\n",
      "3 - Current Loss: 3.9812552954e+02, Norm of Gradient: 3.1999305036e+02\n",
      "4 - Current Loss: 3.8533955578e+02, Norm of Gradient: 1.3804778255e+02\n",
      "5 - Current Loss: 3.7858608815e+02, Norm of Gradient: 9.5766669291e+01\n",
      "6 - Current Loss: 3.4753803518e+02, Norm of Gradient: 1.4518850261e+02\n",
      "7 - Current Loss: 2.9802894874e+02, Norm of Gradient: 3.2867282845e+02\n",
      "8 - Current Loss: 2.9684260095e+02, Norm of Gradient: 7.4622810928e+01\n",
      "9 - Current Loss: 2.8610729326e+02, Norm of Gradient: 8.7346088682e+01\n",
      "10 - Current Loss: 2.8539883684e+02, Norm of Gradient: 3.6563776136e+01\n",
      "11 - Current Loss: 1.4718766596e+02, Norm of Gradient: 1.6535386885e+03\n",
      "12 - Current Loss: 1.3161408185e+02, Norm of Gradient: 7.1605088784e+02\n",
      "13 - Current Loss: 1.2377112454e+02, Norm of Gradient: 1.9842540402e+02\n",
      "14 - Current Loss: 1.2311822980e+02, Norm of Gradient: 6.4459115273e+01\n",
      "15 - Current Loss: 1.1811743619e+02, Norm of Gradient: 4.3602362553e+01\n",
      "16 - Current Loss: 1.1612031241e+02, Norm of Gradient: 1.8467856242e+01\n",
      "17 - Current Loss: 1.1562333707e+02, Norm of Gradient: 8.7752451508e+00\n",
      "18 - Current Loss: 1.1549138466e+02, Norm of Gradient: 3.4091952811e+00\n",
      "19 - Current Loss: 1.1544981351e+02, Norm of Gradient: 1.6663904181e-01\n",
      "20 - Current Loss: 1.1544981337e+02, Norm of Gradient: 1.4552724626e-02\n"
     ]
    },
    {
     "data": {
      "image/png": "[encoded data removed]",
      "text/plain": [
       "<Figure size 400x400 with 4 Axes>"
      ]
     },
     "metadata": {},
     "output_type": "display_data"
    }
   ],
   "source": [
    "# preregistration\n",
    "\n",
    "# pre-reg\n",
    "\n",
    "from scipy.optimize import minimize\n",
    "\n",
    "def single_img_trafo(wp,y):\n",
    "    w_dict = unflatten_params(wp, keys_list[0], shapes_list[0], sizes_list[0])\n",
    "    yc = func.functional_call(y, w_dict, domain_T.getCellCenteredGrid())\n",
    "    # print(Timg(yc).shape)\n",
    "    return Timg(yc).flatten()\n",
    "\n",
    "def lossfn(wp_vec):\n",
    "    pred_d = torch.hstack([single_img_trafo(wp_vec.reshape(-1,6)[j], ys[j]) for j in range(n_images)])\n",
    "    return torch.norm(pred_d - d)\n",
    "\n",
    "\n",
    "def scipy_loss(wc):\n",
    "    global last_loss\n",
    "    wc_tensor = numpy_to_tensor(wc)\n",
    "    loss = lossfn(wc_tensor)\n",
    "    last_loss = loss.item()\n",
    "    return last_loss\n",
    "\n",
    "def scipy_grad(wc):\n",
    "    global last_grad\n",
    "    wc = numpy_to_tensor(wc)\n",
    "    grad = torch.func.grad(lossfn, argnums=0)(wc).detach()\n",
    "    last_grad = tensor_to_numpy(grad)\n",
    "    return last_grad\n",
    "\n",
    "def scipy_hessian(wc):\n",
    "    wc = numpy_to_tensor(wc)\n",
    "    hessian = torch.func.hessian(lossfn, argnums=0)(wc).detach()\n",
    "    hessian = .5 * (hessian + hessian.T)\n",
    "    return tensor_to_numpy(hessian)\n",
    "\n",
    "def callback(xk):\n",
    "    norm_grad = np.linalg.norm(last_grad)\n",
    "    grad_norms.append(norm_grad)\n",
    "    global iteration_num\n",
    "    iteration_num+=1\n",
    "    print(f'{iteration_num} - Current Loss: {last_loss:.10e}, Norm of Gradient: {norm_grad:.10e}')\n",
    "\n",
    "# multi-scale \n",
    "\n",
    "thetas = torch.logspace(2, -3, 6)\n",
    "\n",
    "for theta in thetas:\n",
    "\n",
    "    theta_np = tensor_to_numpy(theta)\n",
    "\n",
    "    last_loss = None\n",
    "    last_grad = None\n",
    "    iteration_num = 0\n",
    "\n",
    "    grad_norms = []\n",
    "\n",
    "    Timg = SplineInter(T[0].detach(), domain_T,regularizer='moments',theta=theta)\n",
    "    Rimgs = [SplineInter(T[i], domain_T, regularizer='moments', theta=theta) for i in range(n_images)]\n",
    "    Rcs = torch.stack([Rimgs[i](domain_T.getCellCenteredGrid()) for i in range(len(Rimgs))])\n",
    "\n",
    "    results = minimize(scipy_loss, x0=tensor_to_numpy(wp_vec0).flatten(), method='newton-cg',\n",
    "               jac=scipy_grad, hess=scipy_hessian,\n",
    "               options={'gtol': 1e-2, 'maxiter':50}, callback=callback)\n",
    "    \n",
    "    template_predictions = torch.stack([single_img_trafo(numpy_to_tensor(results.x).reshape(-1,6)[j], ys[j]).reshape(*domain_T.m) for j in range(n_images)])\n",
    "    show_reference_and_templates(T[0], template_predictions)\n"
   ]
  },
  {
   "cell_type": "code",
   "execution_count": 10,
   "metadata": {},
   "outputs": [
    {
     "name": "stdout",
     "output_type": "stream",
     "text": [
      "torch.Size([12, 1])\n",
      "Error at h=1.000e+00: 3.035e+03 vs 4.230e+03\n",
      "Error at h=5.000e-01: 1.869e+03 vs 1.763e+03\n",
      "Error at h=2.500e-01: 9.487e+02 vs 5.846e+02\n",
      "Error at h=1.250e-01: 4.703e+02 vs 1.755e+02\n",
      "Error at h=6.250e-02: 2.288e+02 vs 4.863e+01\n",
      "Error at h=3.125e-02: 1.121e+02 vs 1.281e+01\n",
      "Error at h=1.562e-02: 5.544e+01 vs 3.288e+00\n",
      "Error at h=7.812e-03: 2.757e+01 vs 8.328e-01\n",
      "Error at h=3.906e-03: 1.375e+01 vs 2.095e-01\n",
      "Error at h=1.953e-03: 6.864e+00 vs 5.250e-02\n",
      "Error at h=9.766e-04: 3.429e+00 vs 1.313e-02\n",
      "Error at h=4.883e-04: 1.714e+00 vs 3.281e-03\n",
      "Error at h=2.441e-04: 8.569e-01 vs 8.198e-04\n",
      "Error at h=1.221e-04: 4.284e-01 vs 2.051e-04\n",
      "Error at h=6.104e-05: 2.142e-01 vs 5.122e-05\n",
      "Error at h=3.052e-05: 1.071e-01 vs 1.280e-05\n",
      "Error at h=1.526e-05: 5.355e-02 vs 3.201e-06\n",
      "Error at h=7.629e-06: 2.678e-02 vs 8.002e-07\n",
      "Error at h=3.815e-06: 1.339e-02 vs 2.000e-07\n",
      "Error at h=1.907e-06: 6.694e-03 vs 5.001e-08\n",
      "Error at h=9.537e-07: 3.347e-03 vs 1.250e-08\n",
      "Error at h=4.768e-07: 1.673e-03 vs 3.126e-09\n",
      "Error at h=2.384e-07: 8.367e-04 vs 7.815e-10\n",
      "Error at h=1.192e-07: 4.184e-04 vs 1.953e-10\n",
      "Error at h=5.960e-08: 2.092e-04 vs 4.884e-11\n",
      "Error at h=2.980e-08: 1.046e-04 vs 1.220e-11\n",
      "Error at h=1.490e-08: 5.230e-05 vs 3.243e-12\n",
      "Error at h=7.451e-09: 2.615e-05 vs 1.182e-12\n",
      "Error at h=3.725e-09: 1.307e-05 vs 8.553e-13\n",
      "Error at h=1.863e-09: 6.537e-06 vs 8.963e-13\n",
      "Error at h=9.313e-10: 3.268e-06 vs 8.843e-13\n",
      "Error at h=4.657e-10: 1.634e-06 vs 8.036e-13\n",
      "Error at h=2.328e-10: 8.171e-07 vs 7.797e-13\n",
      "Error at h=1.164e-10: 4.086e-07 vs 6.690e-13\n",
      "Error at h=5.821e-11: 2.043e-07 vs 1.180e-12\n",
      "Error at h=2.910e-11: 1.021e-07 vs 6.990e-13\n",
      "Error at h=1.455e-11: 5.107e-08 vs 7.936e-13\n",
      "Error at h=7.276e-12: 2.553e-08 vs 7.223e-13\n",
      "Error at h=3.638e-12: 1.277e-08 vs 6.266e-13\n",
      "Error at h=1.819e-12: 6.384e-09 vs 6.211e-13\n"
     ]
    }
   ],
   "source": [
    "print(wp_vec0.shape)\n",
    "wp_vec1 = numpy_to_tensor(results.x)\n",
    "res = res_fn(wp_vec1, 2000)\n",
    "J = Jac_fn(wp_vec1, 2000)\n",
    "# dw = torch.randn_like(wp_vec0)  \n",
    "dw = J.T @ res # in the direction of the gradient\n",
    "dw /= torch.norm(dw)\n",
    "dres = J @ dw\n",
    "\n",
    "for i in range(40):\n",
    "    h = 0.5**i\n",
    "    rest = res_fn(wp_vec1 + h * dw, 2000)\n",
    "    \n",
    "    err0 = torch.norm(res - rest)\n",
    "    err1 = torch.norm(res + h * dres - rest)\n",
    "    print(f\"Error at h={h:.3e}: {err0:.3e} vs {err1:.3e}\") \n",
    "    \n"
   ]
  },
  {
   "cell_type": "code",
   "execution_count": null,
   "metadata": {},
   "outputs": [],
   "source": []
  }
 ],
 "metadata": {
  "kernelspec": {
   "display_name": "ir_2",
   "language": "python",
   "name": "python3"
  },
  "language_info": {
   "codemirror_mode": {
    "name": "ipython",
    "version": 3
   },
   "file_extension": ".py",
   "mimetype": "text/x-python",
   "name": "python",
   "nbconvert_exporter": "python",
   "pygments_lexer": "ipython3",
   "version": "3.11.9"
  }
 },
 "nbformat": 4,
 "nbformat_minor": 2
}
