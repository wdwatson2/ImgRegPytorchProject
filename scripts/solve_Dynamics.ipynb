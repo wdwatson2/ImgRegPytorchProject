{
 "cells": [
  {
   "cell_type": "code",
   "execution_count": 51,
   "metadata": {},
   "outputs": [],
   "source": [
    "# Set directory to main directory (only run this once)\n",
    "import os\n",
    "dir_path = os.getcwd()\n",
    "os.chdir('/'.join(dir_path.split('/')[:-1]))"
   ]
  },
  {
   "cell_type": "code",
   "execution_count": 52,
   "metadata": {},
   "outputs": [],
   "source": [
    "# Import things\n",
    "import numpy as np\n",
    "import torch\n",
    "import torch\n",
    "import torch.func as func\n",
    "import matplotlib.pyplot as plt\n",
    "from PIL import Image\n",
    "from src.domain import Domain\n",
    "from src.utils import *\n",
    "from src.transformations import Affine2d\n",
    "from src.interpolation import SplineInter \n",
    "from src.plotting import view_image_2d\n",
    "from src.interpolation import SplineInter\n",
    "from src.distance import SSDDistance\n",
    "from src.LinearOperator import LinearOperator\n",
    "\n",
    "torch.set_default_dtype(torch.float64)"
   ]
  },
  {
   "cell_type": "markdown",
   "metadata": {},
   "source": [
    "# Estimating Dynamics from an Unregistered Time Series"
   ]
  },
  {
   "cell_type": "code",
   "execution_count": 53,
   "metadata": {},
   "outputs": [
    {
     "ename": "FileNotFoundError",
     "evalue": "[Errno 2] No such file or directory: 'data/dynamics/d_affine/domain'",
     "output_type": "error",
     "traceback": [
      "\u001b[0;31m---------------------------------------------------------------------------\u001b[0m",
      "\u001b[0;31mFileNotFoundError\u001b[0m                         Traceback (most recent call last)",
      "Cell \u001b[0;32mIn[53], line 4\u001b[0m\n\u001b[1;32m      1\u001b[0m \u001b[38;5;66;03m# Load data\u001b[39;00m\n\u001b[1;32m      2\u001b[0m root_directory \u001b[38;5;241m=\u001b[39m \u001b[38;5;124m'\u001b[39m\u001b[38;5;124mdata/dynamics/d_affine/\u001b[39m\u001b[38;5;124m'\u001b[39m\n\u001b[0;32m----> 4\u001b[0m domain \u001b[38;5;241m=\u001b[39m \u001b[43mDomain\u001b[49m\u001b[38;5;241;43m.\u001b[39;49m\u001b[43mload\u001b[49m\u001b[43m(\u001b[49m\u001b[43mroot_directory\u001b[49m\u001b[43m \u001b[49m\u001b[38;5;241;43m+\u001b[39;49m\u001b[43m \u001b[49m\u001b[38;5;124;43m'\u001b[39;49m\u001b[38;5;124;43mdomain\u001b[39;49m\u001b[38;5;124;43m'\u001b[39;49m\u001b[43m)\u001b[49m\n\u001b[1;32m      5\u001b[0m time \u001b[38;5;241m=\u001b[39m torch\u001b[38;5;241m.\u001b[39mload(root_directory \u001b[38;5;241m+\u001b[39m \u001b[38;5;124m'\u001b[39m\u001b[38;5;124mtime.pt\u001b[39m\u001b[38;5;124m'\u001b[39m)\u001b[38;5;241m.\u001b[39mdouble()\u001b[38;5;241m.\u001b[39mdetach()\n\u001b[1;32m      6\u001b[0m d_2d \u001b[38;5;241m=\u001b[39m torch\u001b[38;5;241m.\u001b[39mload(root_directory \u001b[38;5;241m+\u001b[39m \u001b[38;5;124m'\u001b[39m\u001b[38;5;124md.pt\u001b[39m\u001b[38;5;124m'\u001b[39m)\u001b[38;5;241m.\u001b[39mdouble()\u001b[38;5;241m.\u001b[39mdetach()\n",
      "File \u001b[0;32m~/Dropbox/Projects/ImgRegPytorchProject/src/domain.py:45\u001b[0m, in \u001b[0;36mDomain.load\u001b[0;34m(cls, path)\u001b[0m\n\u001b[1;32m     43\u001b[0m \u001b[38;5;129m@classmethod\u001b[39m\n\u001b[1;32m     44\u001b[0m \u001b[38;5;28;01mdef\u001b[39;00m \u001b[38;5;21mload\u001b[39m(\u001b[38;5;28mcls\u001b[39m, path):\n\u001b[0;32m---> 45\u001b[0m     \u001b[38;5;28;01mwith\u001b[39;00m \u001b[38;5;28;43mopen\u001b[39;49m\u001b[43m(\u001b[49m\u001b[43mpath\u001b[49m\u001b[43m,\u001b[49m\u001b[43m \u001b[49m\u001b[38;5;124;43m'\u001b[39;49m\u001b[38;5;124;43mr\u001b[39;49m\u001b[38;5;124;43m'\u001b[39;49m\u001b[43m)\u001b[49m \u001b[38;5;28;01mas\u001b[39;00m file:\n\u001b[1;32m     46\u001b[0m         lines \u001b[38;5;241m=\u001b[39m file\u001b[38;5;241m.\u001b[39mreadlines()\n\u001b[1;32m     47\u001b[0m     omega \u001b[38;5;241m=\u001b[39m \u001b[38;5;28mlist\u001b[39m(\u001b[38;5;28mmap\u001b[39m(\u001b[38;5;28mfloat\u001b[39m, lines[\u001b[38;5;241m0\u001b[39m]\u001b[38;5;241m.\u001b[39mstrip()\u001b[38;5;241m.\u001b[39msplit(\u001b[38;5;124m'\u001b[39m\u001b[38;5;124m: \u001b[39m\u001b[38;5;124m'\u001b[39m)[\u001b[38;5;241m1\u001b[39m]\u001b[38;5;241m.\u001b[39msplit(\u001b[38;5;124m'\u001b[39m\u001b[38;5;124m,\u001b[39m\u001b[38;5;124m'\u001b[39m)))\n",
      "\u001b[0;31mFileNotFoundError\u001b[0m: [Errno 2] No such file or directory: 'data/dynamics/d_affine/domain'"
     ]
    }
   ],
   "source": [
    "# Load data\n",
    "root_directory = 'data/dynamics/d_affine/'\n",
    "\n",
    "domain = Domain.load(root_directory + 'domain')\n",
    "time = torch.load(root_directory + 'time.pt').double().detach()\n",
    "d_2d = torch.load(root_directory + 'd.pt').double().detach()\n",
    "f_2d = torch.load(root_directory + 'f_true.pt').double().detach()\n",
    "masks_2d = torch.load(root_directory + 'masks.pt').double().detach()\n",
    "alpha_true = torch.load(root_directory + 'alpha_true.pt').double().detach()\n",
    "\n",
    "\n",
    "mx,my = domain.m\n",
    "n_images = len(time)\n",
    "n_masks = masks_2d.shape[0]\n",
    "\n",
    "hx,hy = domain.h\n",
    "ht = time[1] - time[0]"
   ]
  },
  {
   "cell_type": "code",
   "execution_count": null,
   "metadata": {},
   "outputs": [],
   "source": [
    "fig, ax = plt.subplots(1,5, figsize=(10,2.6))\n",
    "\n",
    "for j in range(5):\n",
    "    im = view_image_2d(d_2d[5*j], domain, ax=ax[j], kwargs={'clim':(0,300), 'cmap':'Greys_r'})\n",
    "    ax[j].set_title(\"{:.2f}s\".format(time[5*j].item()),fontsize=16)\n",
    "    ax[j].set_xticklabels([])\n",
    "    ax[j].set_yticklabels([])\n",
    "\n",
    "fig.suptitle('Dynamic Contrast Enhanced MRI Imaging', y = .95, fontsize=18)\n",
    "\n",
    "fig.subplots_adjust(0.01,-.1,.99,1)\n",
    "\n",
    "plt.savefig('results/dynamics/contrast_demonstration.pdf')\n",
    "plt.show()"
   ]
  },
  {
   "cell_type": "code",
   "execution_count": null,
   "metadata": {},
   "outputs": [],
   "source": [
    "plt.rcParams['text.usetex'] = True\n",
    "\n",
    "fig, ax = plt.subplots(1,2,figsize = (12,4), width_ratios=[1,1], layout='tight')\n",
    "\n",
    "im = view_image_2d(d_2d[0],domain, ax = ax[0], kwargs={'clim':(0,300), 'cmap':'Greys_r'})\n",
    "ax[0].set_xticklabels([])\n",
    "ax[0].set_yticklabels([])\n",
    "\n",
    "view_image_2d(masks_2d[0],domain,{'alpha':.4*masks_2d[0].T,'cmap':'seismic'}, ax=ax[0])\n",
    "view_image_2d(masks_2d[1],domain,{'alpha':.4*masks_2d[1].T}, ax=ax[0])\n",
    "\n",
    "ax[0].scatter([],[],color='darkred',label=\"Medulla\")\n",
    "ax[0].scatter([],[],color='y',label=\"Cortex\")\n",
    "ax[0].legend()\n",
    "\n",
    "ax[0].set_title(\"Kidney Segmentation\", y=1.05, fontsize = 18)\n",
    "\n",
    "cbar = plt.colorbar(im,shrink=.98)\n",
    "cbar.set_label(label = \"Intensity\", fontsize = 14)\n",
    "\n",
    "ax[1].plot(time, alpha_true[:,0], color='darkred', label=r\"$\\alpha_m$ (Medulla Dynamics)\")\n",
    "ax[1].plot(time, alpha_true[:,1], color='y', label=r\"$\\alpha_c$ (Cortex Dynamics)\")\n",
    "ax[1].legend(fontsize=14)\n",
    "\n",
    "ax[1].set_xlabel('Time [s]', fontsize=14)\n",
    "ax[1].set_ylabel('Intensity', fontsize=14)\n",
    "\n",
    "ax[1].set_title(\"True Dynamics\", y=1.05, fontsize = 18)\n",
    "\n",
    "fig.suptitle(\"Dynamic Estimation Problem Setup\", y=.95, fontsize=24)\n",
    "\n",
    "plt.savefig('results/dynamics/problem_setup.pdf', bbox_inches='tight')\n",
    "\n",
    "plt.show()"
   ]
  },
  {
   "cell_type": "code",
   "execution_count": null,
   "metadata": {},
   "outputs": [],
   "source": [
    "d = d_2d.reshape(n_images, mx*my)\n",
    "f = f_2d.reshape(n_images, mx*my)\n",
    "masks = masks_2d.reshape(n_masks, mx*my)"
   ]
  },
  {
   "cell_type": "markdown",
   "metadata": {},
   "source": [
    "# Solving For Dynamics with Unregistered Images"
   ]
  },
  {
   "cell_type": "code",
   "execution_count": null,
   "metadata": {},
   "outputs": [],
   "source": [
    "D = torch.diff(torch.eye(n_images), dim=0)\n",
    "Tau = torch.diag(1. * (time[:-1] > 10) + .1 * (time[:-1] < 10))"
   ]
  },
  {
   "cell_type": "markdown",
   "metadata": {},
   "source": [
    "# Find best lambda"
   ]
  },
  {
   "cell_type": "code",
   "execution_count": null,
   "metadata": {},
   "outputs": [],
   "source": [
    "def true_error(L_alpha):\n",
    "    A = torch.vstack([torch.kron(torch.eye(n_images), masks.T.contiguous()) * (hx * hy)**.5, L_alpha * torch.kron(Tau @ D, torch.eye(n_masks)) / ht**.5])\n",
    "    alpha_unregistered = torch.linalg.lstsq(A, \n",
    "                                            torch.hstack([(d - d[0]).flatten() * (hx * hy)**.5, torch.zeros(D.shape[0]*n_masks)])\n",
    "                                            )[0].reshape(n_images,n_masks)\n",
    "    return torch.linalg.norm(alpha_unregistered - alpha_true)\n",
    "\n",
    "Ls = torch.logspace(-10,10,100)\n",
    "error = [true_error(L) for L in Ls]\n",
    "\n",
    "plt.loglog(Ls,error)"
   ]
  },
  {
   "cell_type": "code",
   "execution_count": null,
   "metadata": {},
   "outputs": [],
   "source": [
    "L_alpha = Ls[torch.argmin(torch.Tensor(error))]\n",
    "\n",
    "A = torch.vstack([torch.kron(torch.eye(n_images), masks.T.contiguous()) * (hx * hy)**.5, L_alpha * torch.kron(Tau @ D, torch.eye(n_masks)) / ht**.5])"
   ]
  },
  {
   "cell_type": "code",
   "execution_count": null,
   "metadata": {},
   "outputs": [],
   "source": [
    "L_alpha"
   ]
  },
  {
   "cell_type": "code",
   "execution_count": null,
   "metadata": {},
   "outputs": [],
   "source": [
    "alpha_unregistered = torch.linalg.lstsq(A, \n",
    "                                        torch.hstack([(d - d[0]).flatten() * (hx * hy)**.5, torch.zeros(D.shape[0]*n_masks)])\n",
    "                                        )[0].reshape(n_images,n_masks)\n",
    "\n",
    "plt.figure(figsize=(10,5))\n",
    "\n",
    "plt.plot(time, alpha_true[:,0], '--', color='darkred', label=r\"True $\\alpha_m$\")\n",
    "plt.plot(time, alpha_true[:,1], '--', color='y', label=r\"True $\\alpha_c$\")\n",
    "\n",
    "plt.plot(time, alpha_unregistered[:,0], color='darkred', label=r\"$\\alpha_m$ Unregistered Estimate\")\n",
    "plt.plot(time, alpha_unregistered[:,1], color='y', label=r\"$\\alpha_c$ Unregistered Estimate\")\n",
    "\n",
    "plt.legend(fontsize=14)\n",
    "\n",
    "plt.xlabel('Time [s]', fontsize=18)\n",
    "plt.ylabel('Intensity', fontsize=18)\n",
    "\n",
    "plt.title(\"Estimated Dynamics from Unregistered Images\",fontsize=24, y=1.03)\n",
    "\n",
    "\n",
    "plt.savefig('results/dynamics/unregistered_alpha.pdf', bbox_inches='tight')\n",
    "\n",
    "plt.show()"
   ]
  },
  {
   "cell_type": "markdown",
   "metadata": {},
   "source": [
    "# Solving For Dynamics with Preregistered Images"
   ]
  },
  {
   "cell_type": "code",
   "execution_count": null,
   "metadata": {},
   "outputs": [],
   "source": [
    "# out = [func.jacfwd(Forward_single, has_aux=True)(wp_vec.reshape(-1,6)[j], ys[j], d_interp[j+1]) for j in range(n_images - 1)]\n",
    "out[0][1].shape"
   ]
  },
  {
   "cell_type": "code",
   "execution_count": 55,
   "metadata": {},
   "outputs": [
    {
     "name": "stdout",
     "output_type": "stream",
     "text": [
      "----------------------------------------------------------------------------------------------------\n",
      "Registering Multiple Images :\n",
      "----------------------------------------------------------------------------------------------------\n",
      "Registering at Scale 100000.0 with Gauss Newton\n",
      "iter \t 0 \t | \t loss \t 51621001.780272916 \t | \t gradnorm \t inf\n"
     ]
    },
    {
     "ename": "RuntimeError",
     "evalue": "The size of tensor a (24) must match the size of tensor b (144) at non-singleton dimension 0",
     "output_type": "error",
     "traceback": [
      "\u001b[0;31m---------------------------------------------------------------------------\u001b[0m",
      "\u001b[0;31mRuntimeError\u001b[0m                              Traceback (most recent call last)",
      "Cell \u001b[0;32mIn[55], line 56\u001b[0m\n\u001b[1;32m     54\u001b[0m p \u001b[38;5;241m=\u001b[39m torch\u001b[38;5;241m.\u001b[39mvstack([torch\u001b[38;5;241m.\u001b[39mlinalg\u001b[38;5;241m.\u001b[39mlstsq(Jacs[j], \u001b[38;5;241m-\u001b[39mres\u001b[38;5;241m.\u001b[39mreshape(\u001b[38;5;241m-\u001b[39m\u001b[38;5;241m1\u001b[39m,n_images\u001b[38;5;241m-\u001b[39m\u001b[38;5;241m1\u001b[39m)[:,j])[\u001b[38;5;241m0\u001b[39m] \u001b[38;5;28;01mfor\u001b[39;00m j \u001b[38;5;129;01min\u001b[39;00m \u001b[38;5;28mrange\u001b[39m(n_images \u001b[38;5;241m-\u001b[39m \u001b[38;5;241m1\u001b[39m)])\n\u001b[1;32m     55\u001b[0m pt \u001b[38;5;241m=\u001b[39m torch\u001b[38;5;241m.\u001b[39mlinalg\u001b[38;5;241m.\u001b[39mlstsq(Jac, \u001b[38;5;241m-\u001b[39mres)[\u001b[38;5;241m0\u001b[39m]\n\u001b[0;32m---> 56\u001b[0m \u001b[38;5;28mprint\u001b[39m(torch\u001b[38;5;241m.\u001b[39mnorm(\u001b[43mp\u001b[49m\u001b[38;5;241;43m-\u001b[39;49m\u001b[43mpt\u001b[49m))\n\u001b[1;32m     57\u001b[0m step_size \u001b[38;5;241m=\u001b[39m \u001b[38;5;241m1\u001b[39m\n\u001b[1;32m     58\u001b[0m \u001b[38;5;28;01mfor\u001b[39;00m _ \u001b[38;5;129;01min\u001b[39;00m \u001b[38;5;28mrange\u001b[39m(\u001b[38;5;241m10\u001b[39m):\n",
      "\u001b[0;31mRuntimeError\u001b[0m: The size of tensor a (24) must match the size of tensor b (144) at non-singleton dimension 0"
     ]
    }
   ],
   "source": [
    "xc_2d = domain.getCellCenteredGrid()\n",
    "xc = xc_2d.reshape(mx*my,2).detach()\n",
    "\n",
    "ys = [Affine2d() for _ in range(n_images-1)]\n",
    "\n",
    "thetas = torch.logspace(5,-3, 10)\n",
    "\n",
    "wps = [{k: v.detach() for k, v in y.named_parameters()} for y in ys]\n",
    "keys_list = [wp.keys() for wp in wps]\n",
    "\n",
    "flat_params_list, shapes_list, sizes_list = flatten_params_list(wps)\n",
    "wp_vec = torch.stack(flat_params_list).flatten().unsqueeze(1)\n",
    "\n",
    "# Start Registration\n",
    "print(100*'-')\n",
    "print(\"Registering Multiple Images :\")\n",
    "print(100*'-')\n",
    "\n",
    "f_pred = d.clone().detach()\n",
    "\n",
    "for theta in thetas:\n",
    "    print(\"Registering at Scale {} with Gauss Newton\".format(theta))\n",
    "\n",
    "    d_interp = [SplineInter(d[j].reshape(mx,my).clone().detach(), domain, regularizer='moments', theta=theta) for j in range(n_images)]\n",
    "\n",
    "    d0_stack = torch.vstack([d_interp[0](xc) for _ in range(n_images - 1)]).detach()\n",
    "\n",
    "    def Forward_single(wp, y, d_inter):\n",
    "        w_dict = unflatten_params(wp, keys_list[0], shapes_list[0], sizes_list[0])\n",
    "        yc = func.functional_call(y, w_dict, xc)\n",
    "        f_pred = d_inter(yc)\n",
    "        return f_pred, f_pred\n",
    "        \n",
    "    def loss_fn(wp_vec, ys, d_interp):\n",
    "        F = torch.vstack([Forward_single(wp_vec.reshape(-1,6)[j], ys[j], d_interp[j+1])[0] for j in range(n_images - 1)])\n",
    "        return torch.linalg.norm(F - d0_stack)**2 * torch.prod(domain.h)\n",
    "\n",
    "    iter = 0\n",
    "\n",
    "    loss = []\n",
    "    loss.append(loss_fn(wp_vec, ys, d_interp))\n",
    "    gradnorm = []\n",
    "    gradnorm.append(torch.inf)\n",
    "\n",
    "    while gradnorm[-1] > 1e3 and iter < 50:\n",
    "        print(\"iter \\t {} \\t | \\t loss \\t {} \\t | \\t gradnorm \\t {}\".format(iter,loss[-1],gradnorm[-1]))\n",
    "        out = [func.jacfwd(Forward_single, has_aux=True)(wp_vec.reshape(-1,6)[j], ys[j], d_interp[j+1]) for j in range(n_images - 1)]\n",
    "        Jacs = [o[0].squeeze() for o in out]\n",
    "        Jac = torch.block_diag(*Jacs)\n",
    "        F = torch.vstack([o[1] for o in out])\n",
    "        \n",
    "        res = F - d0_stack\n",
    "        gradnorm.append(torch.linalg.norm(Jac.T @ res))\n",
    "        p = torch.vstack([torch.linalg.lstsq(Jacs[j], -res.reshape(n_images-1,-1)[j,:])[0] for j in range(n_images - 1)]).reshape(-1,1)\n",
    "        # pt = torch.linalg.lstsq(Jac, -res)[0]\n",
    "        step_size = 1\n",
    "        for _ in range(10):\n",
    "            if loss_fn(wp_vec + step_size * p, ys, d_interp) < loss[iter]:\n",
    "                wp_vec += step_size * p\n",
    "                break\n",
    "            step_size *= .5\n",
    "        loss.append(loss_fn(wp_vec, ys, d_interp))\n",
    "\n",
    "        iter += 1\n",
    "\n",
    "        f_pred[1:] = F.reshape(n_images - 1, mx*my)\n",
    "\n",
    "wp_vec_prereg = wp_vec.clone()\n",
    "f_pred_prereg = f_pred.clone()"
   ]
  },
  {
   "cell_type": "code",
   "execution_count": 61,
   "metadata": {},
   "outputs": [
    {
     "name": "stdout",
     "output_type": "stream",
     "text": [
      "tensor(4.0182e-14)\n"
     ]
    }
   ],
   "source": [
    "p = torch.vstack([torch.linalg.lstsq(Jacs[j], -res.reshape(n_images-1,-1)[j,:])[0] for j in range(n_images - 1)]).reshape(-1,1)\n",
    "pt = torch.linalg.lstsq(Jac, -res)[0]\n",
    "print(torch.norm(p-pt))\n",
    "        "
   ]
  },
  {
   "cell_type": "code",
   "execution_count": null,
   "metadata": {},
   "outputs": [],
   "source": [
    "theta = 0\n",
    "\n",
    "d_interp = [SplineInter(d[j].reshape(mx,my).detach(), domain, regularizer='moments', theta=0) for j in range(n_images)]\n",
    "\n",
    "def Forward(wp_vec, xc):\n",
    "        w_dict = unflatten_params_list(wp_vec.reshape(n_images-1,6), keys_list, shapes_list, sizes_list)\n",
    "        ycs = [func.functional_call(y, wp, xc) for wp, y in zip(w_dict, ys)]\n",
    "        f_preds = torch.vstack([d_interp[j+1](ycs[j]) for j in range(n_images - 1)])\n",
    "        return f_preds, f_preds\n",
    "\n",
    "f_pred[1:] = Forward(wp_vec, xc)[0].reshape(n_images - 1, mx*my)"
   ]
  },
  {
   "cell_type": "code",
   "execution_count": null,
   "metadata": {},
   "outputs": [],
   "source": [
    "fig, ax = plt.subplots(5,5,figsize=(15,15))\n",
    "\n",
    "for j in range(0,n_images):\n",
    "    view_image_2d(f_pred[j].reshape(mx,my).detach() - d_2d[j], domain, ax=ax[j//5,j%5])"
   ]
  },
  {
   "cell_type": "code",
   "execution_count": null,
   "metadata": {},
   "outputs": [],
   "source": [
    "alpha_true.shape"
   ]
  },
  {
   "cell_type": "code",
   "execution_count": null,
   "metadata": {},
   "outputs": [],
   "source": [
    "torch.diff(torch.eye(n_images-1), dim=0).shape"
   ]
  },
  {
   "cell_type": "code",
   "execution_count": null,
   "metadata": {},
   "outputs": [],
   "source": [
    "xc_2d = domain.getCellCenteredGrid()\n",
    "xc = xc_2d.reshape(mx*my,2).detach()\n",
    "\n",
    "ys = [Affine2d() for _ in range(n_images-1)]\n",
    "\n",
    "thetas = torch.logspace(5,-3, 10)\n",
    "\n",
    "wps = [{k: v.detach() for k, v in y.named_parameters()} for y in ys]\n",
    "keys_list = [wp.keys() for wp in wps]\n",
    "\n",
    "flat_params_list, shapes_list, sizes_list = flatten_params_list(wps)\n",
    "wp_vec = torch.stack(flat_params_list).flatten().unsqueeze(1)\n",
    "\n",
    "# Start Registration\n",
    "print(100*'-')\n",
    "print(\"Registering Multiple Images :\")\n",
    "print(100*'-')\n",
    "\n",
    "f_pred = d.clone().detach()\n",
    "\n",
    "for theta in thetas:\n",
    "    print(\"Registering at Scale {} with Gauss Newton\".format(theta))\n",
    "    Mimgs = [\n",
    "            SplineInter(mask.reshape(mx,my), domain, regularizer='moments', theta=theta) for mask in masks\n",
    "            ]\n",
    "    M = (torch.stack([Mimg(xc).detach() for Mimg in Mimgs], dim=-1).squeeze())\n",
    "    A = torch.vstack([torch.kron(torch.eye(n_images-1), M) * (hx * hy)**.5, L_alpha * torch.kron(torch.diag(1. * (time[:-2] > 10) + .1 * time[:-2] < 10) @ torch.diff(torch.eye(n_images-1), dim=0), torch.eye(n_masks)) / ht**.5])\n",
    "\n",
    "    Q,R = torch.linalg.qr(A, mode='reduced')\n",
    "\n",
    "    def P(image_stack):\n",
    "        appended_stack = torch.hstack([image_stack.flatten(), torch.zeros((n_images-2)*n_masks)])\n",
    "        return appended_stack - Q @ (Q.T @ appended_stack)\n",
    "\n",
    "    d_interp = [SplineInter(d[j].reshape(mx,my).clone().detach(), domain, regularizer='moments', theta=theta) for j in range(n_images)]\n",
    "\n",
    "    d0_stack = torch.vstack([d_interp[0](xc) for _ in range(n_images - 1)]).detach()\n",
    "\n",
    "    def Forward(wp_vec, xc):\n",
    "            w_dict = unflatten_params_list(wp_vec.reshape(n_images-1,6), keys_list, shapes_list, sizes_list)\n",
    "            ycs = [func.functional_call(y, wp, xc) for wp, y in zip(w_dict, ys)]\n",
    "            f_preds = torch.vstack([d_interp[j+1](ycs[j]) for j in range(n_images - 1)])\n",
    "            return f_preds, f_preds\n",
    "\n",
    "    def loss_fn(wp_vec, xc):\n",
    "        return torch.linalg.norm(P(Forward(wp_vec, xc)[0] - d0_stack))**2 * torch.prod(domain.h)\n",
    "\n",
    "\n",
    "    iter = 0\n",
    "\n",
    "    loss = []\n",
    "    loss.append(loss_fn(wp_vec, xc))\n",
    "    gradnorm = []\n",
    "    gradnorm.append(torch.inf)\n",
    "\n",
    "    while gradnorm[-1] > 1e3 and iter < 50:\n",
    "        print(\"iter \\t {} \\t | \\t loss \\t {} \\t | \\t gradnorm \\t {}\".format(iter,loss[-1],gradnorm[-1]))\n",
    "\n",
    "        Jac, F = func.jacfwd(Forward, has_aux=True)(wp_vec, xc)\n",
    "        Jac = torch.vmap(P,1,1)(Jac.squeeze())\n",
    "        res = P(F - d0_stack)\n",
    "\n",
    "\n",
    "        gradnorm.append(torch.linalg.norm(Jac.T @ res))\n",
    "        p = torch.linalg.lstsq(Jac, -res)[0].unsqueeze(1)\n",
    "\n",
    "        step_size = 1\n",
    "        for _ in range(10):\n",
    "            if loss_fn(wp_vec + step_size * p, xc) < loss[iter]:\n",
    "                wp_vec += step_size * p\n",
    "                break\n",
    "            step_size *= .5\n",
    "        loss.append(loss_fn(wp_vec, xc))\n",
    "\n",
    "        iter += 1\n",
    "\n",
    "        f_pred[1:] = F.reshape(n_images - 1, mx*my)\n",
    "\n",
    "wp_vec_coupled = wp_vec.clone()\n",
    "f_pred_coupled = f_pred.clone()"
   ]
  },
  {
   "cell_type": "code",
   "execution_count": null,
   "metadata": {},
   "outputs": [],
   "source": [
    "plt.matshow(Jac.T@Jac < 1e8)\n",
    "plt.colorbar()"
   ]
  },
  {
   "cell_type": "code",
   "execution_count": null,
   "metadata": {},
   "outputs": [],
   "source": [
    "plt.semilogy(torch.svd(Jac.T@Jac).S)"
   ]
  },
  {
   "cell_type": "code",
   "execution_count": null,
   "metadata": {},
   "outputs": [],
   "source": [
    "fig, ax = plt.subplots(5,5,figsize=(15,15))\n",
    "\n",
    "for j in range(0,n_images):\n",
    "    view_image_2d(f_pred[j].reshape(mx,my).detach() - d_2d[j], domain, ax=ax[j//5,j%5], kwargs={'clim':(-200,200), 'cmap':'RdBu'})"
   ]
  },
  {
   "cell_type": "code",
   "execution_count": null,
   "metadata": {},
   "outputs": [],
   "source": [
    "A = torch.vstack([torch.kron(torch.eye(n_images), M) * (hx * hy)**.5, L_alpha * torch.kron(Tau @ D, torch.eye(n_masks)) / ht**.5])\n",
    "\n",
    "alpha_preregistered = torch.linalg.lstsq(A, \n",
    "                   torch.hstack([(f_pred_prereg - d[0]).flatten() * (hx * hy)**.5, torch.zeros(D.shape[0]*n_masks)])\n",
    "                   )[0].reshape(n_images,n_masks)\n",
    "\n",
    "alpha_coupled = torch.linalg.lstsq(A, \n",
    "                   torch.hstack([(f_pred_coupled - d[0]).flatten() * (hx * hy)**.5, torch.zeros(D.shape[0]*n_masks)])\n",
    "                   )[0].reshape(n_images,n_masks)\n",
    "\n",
    "\n",
    "fig, ax = plt.subplots(2, 1, figsize=(10,6), layout='tight')\n",
    "\n",
    "ax[0].plot(time, alpha_true[:,0], linewidth=1, color='darkred', label=r\"True $\\alpha_m$\", alpha=1)\n",
    "ax[1].plot(time, alpha_true[:,1], linewidth=1, color='darkred', label=r\"True $\\alpha_c$\", alpha=1)\n",
    "\n",
    "ax[0].plot(time, alpha_unregistered[:,0], 's', markersize=4, linewidth=1, linestyle=(0, (3, 1, 1, 1, 1, 1)), color='darkblue', label=r\"$\\widehat{\\alpha}_m$ Unregistered\", alpha=.5)\n",
    "ax[1].plot(time, alpha_unregistered[:,1], 's', markersize=4, linewidth=1, linestyle=(0, (3, 1, 1, 1, 1, 1)), color='darkblue', label=r\"$\\widehat{\\alpha}_c$ Unregistered\", alpha=.5)\n",
    "\n",
    "ax[0].plot(time, alpha_preregistered[:,0], '^', markersize=4, linewidth=1, linestyle=(5,(10,3)), color='red', label=r\"$\\widehat{\\alpha}_m$ Pre-Registered\", alpha=.75)\n",
    "ax[1].plot(time, alpha_preregistered[:,1], '^', markersize=4, linewidth=1, linestyle=(5,(10,3)), color='red', label=r\"$\\widehat{\\alpha}_c$ Pre-Registered\", alpha=.75)\n",
    "\n",
    "ax[0].plot(time, alpha_coupled[:,0], 'o', markersize=4, linewidth=1, linestyle='dashed', color='mediumseagreen', label=r\"$\\widehat{\\alpha}_m$ Coupled\")\n",
    "ax[1].plot(time, alpha_coupled[:,1], 'o', markersize=4, linewidth=1, linestyle='dashed', color='mediumseagreen', label=r\"$\\widehat{\\alpha}_c$ Coupled\")\n",
    "\n",
    "\n",
    "ax[0].legend(fontsize=14, loc = 'lower right', ncol=4, columnspacing=0.8)\n",
    "ax[1].legend(fontsize=14, loc = 'lower right', ncol=4, columnspacing=0.8)\n",
    "\n",
    "\n",
    "ax[0].set_xlabel('Time [s]', fontsize=18)\n",
    "ax[0].set_ylabel('Intensity', fontsize=18)\n",
    "\n",
    "ax[1].set_xlabel('Time [s]', fontsize=18)\n",
    "ax[1].set_ylabel('Intensity', fontsize=18)\n",
    "\n",
    "ax[0].set_ylim(-10,60)\n",
    "ax[1].set_ylim(-10,60)\n",
    "\n",
    "ax[0].set_xlim(0,60)\n",
    "ax[1].set_xlim(0,60)\n",
    "\n",
    "ax[0].set_title(\"Medulla Dynamics\", fontsize=18)\n",
    "ax[1].set_title(\"Cortex Dynamics\", fontsize=18)\n",
    "\n",
    "plt.suptitle(\"Estimated Dynamics with Different Approaches\",fontsize=24, y=.98)\n",
    "\n",
    "plt.savefig('results/dynamics/alpha_estimation.pdf', bbox_inches='tight')\n",
    "\n",
    "plt.show()"
   ]
  },
  {
   "cell_type": "code",
   "execution_count": null,
   "metadata": {},
   "outputs": [],
   "source": [
    "alpha_true_norms = torch.linalg.norm(alpha_true,dim=0)\n",
    "\n",
    "alpha_unregistered_relative_error = torch.linalg.norm(alpha_unregistered - alpha_true,dim=0)/alpha_true_norms\n",
    "alpha_preregistered_relative_error = torch.linalg.norm(alpha_preregistered - alpha_true,dim=0)/alpha_true_norms\n",
    "alpha_coupled_relative_error = torch.linalg.norm(alpha_coupled - alpha_true,dim=0)/alpha_true_norms\n",
    "\n",
    "print(\"Relative Errors \\t Medulla \\t\\t Cortex\")\n",
    "print(\"Unregistered \\t : \\t {:.2%} \\t\\t {:.2%}\".format(*alpha_unregistered_relative_error))\n",
    "print(\"Preregistered \\t : \\t {:.2%} \\t\\t {:.2%}\".format(*alpha_preregistered_relative_error))\n",
    "print(\"Coupled \\t : \\t {:.2%} \\t\\t {:.2%}\".format(*alpha_coupled_relative_error))"
   ]
  },
  {
   "cell_type": "code",
   "execution_count": null,
   "metadata": {},
   "outputs": [],
   "source": [
    "f_pred_prereg_2d = f_pred_prereg.reshape(n_images,mx,my)\n",
    "f_pred_coupled_2d = f_pred_coupled.reshape(n_images,mx,my)"
   ]
  },
  {
   "cell_type": "code",
   "execution_count": null,
   "metadata": {},
   "outputs": [],
   "source": [
    "fig, ax = plt.subplots(2,3, figsize=(8,4))\n",
    "\n",
    "ax[0,0].set_title(\"Unregistered\", fontsize = 18)\n",
    "ax[0,1].set_title(\"Pre-Registration\", fontsize = 18)\n",
    "ax[0,2].set_title(\"Coupled Registration\", fontsize = 18)\n",
    "\n",
    "im00 = ax[0,0].pcolor(xc_2d[:,0,0], time, d_2d[:,:,100 - 20], clim=(0,200), cmap = 'Greys_r')\n",
    "im01 =ax[0,1].pcolor(xc_2d[:,0,0], time, f_pred_prereg_2d[:,:,100 - 20], clim=(0,200), cmap = 'Greys_r')\n",
    "im02 = ax[0,2].pcolor(xc_2d[:,0,0], time, f_pred_coupled_2d[:,:,100 - 20], clim=(0,200), cmap = 'Greys_r')\n",
    "\n",
    "im10 =ax[1,0].pcolor(xc_2d[:,0,0], time, d_2d[:,:,100 - 20] - f_2d[:,:,100 - 20], clim=(-200,200), cmap = 'magma')\n",
    "im11 = ax[1,1].pcolor(xc_2d[:,0,0], time, f_pred_prereg_2d[:,:,100 - 20] - f_2d[:,:,100 - 20], clim=(-200,200), cmap = 'magma')\n",
    "im12 = ax[1,2].pcolor(xc_2d[:,0,0], time, f_pred_coupled_2d[:,:,100 - 20] - f_2d[:,:,100 - 20], clim=(-200,200), cmap = 'magma')\n",
    "\n",
    "im00.set_edgecolor('face')\n",
    "im01.set_edgecolor('face')\n",
    "im02.set_edgecolor('face')\n",
    "im10.set_edgecolor('face')\n",
    "im11.set_edgecolor('face')\n",
    "im12.set_edgecolor('face')\n",
    "\n",
    "ax[0,0].set_ylabel('Time [s]', fontsize = 14)\n",
    "ax[1,0].set_ylabel('Time [s]', fontsize = 14)\n",
    "ax[1,0].set_xlabel('X Position', fontsize = 14)\n",
    "ax[1,1].set_xlabel('X Position', fontsize = 14)\n",
    "ax[1,2].set_xlabel('X Position', fontsize = 14)\n",
    "\n",
    "ax[0,0].invert_yaxis()\n",
    "ax[0,1].invert_yaxis()\n",
    "ax[0,2].invert_yaxis()\n",
    "ax[1,0].invert_yaxis()\n",
    "ax[1,1].invert_yaxis()\n",
    "ax[1,2].invert_yaxis()\n",
    "\n",
    "fig.subplots_adjust(0,0,.8,1)\n",
    "\n",
    "# Create colorbar axes\n",
    "cbar_ax1 = fig.add_axes([0.85, 0.55, 0.02, 0.45])  # x, y, width, height\n",
    "cbar_ax2 = fig.add_axes([0.85, 0.0, 0.02, 0.45])\n",
    "\n",
    "# Create colorbars in the new axes\n",
    "cbar1 = plt.colorbar(im02, cax=cbar_ax1)\n",
    "cbar2 = plt.colorbar(im12, cax=cbar_ax2)\n",
    "\n",
    "\n",
    "cbar1.set_label(label = \"Intensity\", fontsize = 14)\n",
    "cbar2.set_label(label = \"Prediction - True Reference\", fontsize = 14)\n",
    "\n",
    "\n",
    "fig.suptitle(\"Registration at y=100\", y=1.2, x = .45, fontsize=24)\n",
    "\n",
    "plt.savefig('results/dynamics/registration_slice_horizontal.pdf', bbox_inches='tight')\n",
    "\n",
    "plt.show()\n"
   ]
  },
  {
   "cell_type": "code",
   "execution_count": null,
   "metadata": {},
   "outputs": [],
   "source": [
    "fig, ax = plt.subplots(2,3, figsize=(8,4))\n",
    "\n",
    "ax[0,0].set_title(\"Unregistered\", fontsize = 18)\n",
    "ax[0,1].set_title(\"Pre-Registration\", fontsize = 18)\n",
    "ax[0,2].set_title(\"Coupled Registration\", fontsize = 18)\n",
    "\n",
    "im00 = ax[0,0].pcolor(xc_2d[0,:,1], time, d_2d[:,80-13,:], clim=(0,200), cmap = 'Greys_r')\n",
    "im01 =ax[0,1].pcolor(xc_2d[0,:,1], time, f_pred_prereg_2d[:,80-13,:], clim=(0,200), cmap = 'Greys_r')\n",
    "im02 = ax[0,2].pcolor(xc_2d[0,:,1], time, f_pred_coupled_2d[:,80-13,:], clim=(0,200), cmap = 'Greys_r')\n",
    "\n",
    "im10 =ax[1,0].pcolor(xc_2d[0,:,1], time, d_2d[:,80-13,:] - f_2d[:,80-13,:], clim=(-200,200), cmap = 'magma')\n",
    "im11 = ax[1,1].pcolor(xc_2d[0,:,1], time, f_pred_prereg_2d[:,80-13,:] - f_2d[:,80-13,:], clim=(-200,200), cmap = 'magma')\n",
    "im12 = ax[1,2].pcolor(xc_2d[0,:,1], time, f_pred_coupled_2d[:,80-13,:]- f_2d[:,80-13,:], clim=(-200,200), cmap = 'magma')\n",
    "\n",
    "im00.set_edgecolor('face')\n",
    "im01.set_edgecolor('face')\n",
    "im02.set_edgecolor('face')\n",
    "im10.set_edgecolor('face')\n",
    "im11.set_edgecolor('face')\n",
    "im12.set_edgecolor('face')\n",
    "\n",
    "ax[0,0].set_ylabel('Time [s]', fontsize = 14)\n",
    "ax[1,0].set_ylabel('Time [s]', fontsize = 14)\n",
    "ax[1,0].set_xlabel('Y Position', fontsize = 14)\n",
    "ax[1,1].set_xlabel('Y Position', fontsize = 14)\n",
    "ax[1,2].set_xlabel('Y Position', fontsize = 14)\n",
    "\n",
    "ax[0,0].invert_yaxis()\n",
    "ax[0,1].invert_yaxis()\n",
    "ax[0,2].invert_yaxis()\n",
    "ax[1,0].invert_yaxis()\n",
    "ax[1,1].invert_yaxis()\n",
    "ax[1,2].invert_yaxis()\n",
    "\n",
    "fig.subplots_adjust(0,0,.8,1)\n",
    "\n",
    "# Create colorbar axes\n",
    "cbar_ax1 = fig.add_axes([0.85, 0.55, 0.02, 0.45])  # x, y, width, height\n",
    "cbar_ax2 = fig.add_axes([0.85, 0.0, 0.02, 0.45])\n",
    "\n",
    "# Create colorbars in the new axes\n",
    "cbar1 = plt.colorbar(im02, cax=cbar_ax1)\n",
    "cbar2 = plt.colorbar(im12, cax=cbar_ax2)\n",
    "\n",
    "\n",
    "cbar1.set_label(label = \"Intensity\", fontsize = 14)\n",
    "cbar2.set_label(label = \"Prediction - True Reference\", fontsize = 14)\n",
    "\n",
    "fig.suptitle(\"Registration at x=80\", y=1.2, x = .45, fontsize=24)\n",
    "\n",
    "plt.savefig('results/dynamics/registration_slice_vertical.pdf', bbox_inches='tight')\n",
    "\n",
    "plt.show()\n",
    "\n"
   ]
  },
  {
   "cell_type": "code",
   "execution_count": null,
   "metadata": {},
   "outputs": [],
   "source": [
    "view_image_2d(d[0],domain)\n",
    "plt.vlines(80,20,170, color='darkslategrey', label=\"x = 80\", linewidth=5)\n",
    "plt.hlines(100,13,228, color='lightcoral', label=\"y = 100\", linewidth=5, alpha=.75)\n",
    "plt.legend(fontsize=18)\n",
    "plt.title(\"Slices on the Initial Image\", fontsize=24)\n",
    "plt.xlabel(\"X\", fontsize=14)\n",
    "plt.ylabel(\"Y\", fontsize=14)\n",
    "\n",
    "plt.savefig(\"results/dynamics/slices.pdf\", bbox_inches='tight')\n",
    "\n",
    "plt.show()"
   ]
  },
  {
   "cell_type": "code",
   "execution_count": null,
   "metadata": {},
   "outputs": [],
   "source": []
  }
 ],
 "metadata": {
  "kernelspec": {
   "display_name": "ir_2",
   "language": "python",
   "name": "python3"
  },
  "language_info": {
   "codemirror_mode": {
    "name": "ipython",
    "version": 3
   },
   "file_extension": ".py",
   "mimetype": "text/x-python",
   "name": "python",
   "nbconvert_exporter": "python",
   "pygments_lexer": "ipython3",
   "version": "3.11.6"
  }
 },
 "nbformat": 4,
 "nbformat_minor": 2
}
