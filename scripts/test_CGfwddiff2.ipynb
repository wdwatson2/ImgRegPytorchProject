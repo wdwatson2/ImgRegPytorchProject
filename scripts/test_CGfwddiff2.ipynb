{
 "cells": [
  {
   "cell_type": "code",
   "execution_count": 1,
   "metadata": {},
   "outputs": [],
   "source": [
    "# Import python directory\n",
    "import sys\n",
    "sys.path.append('..')\n",
    "\n",
    "import torch\n",
    "from PIL import Image\n",
    "import matplotlib.pyplot as plt\n",
    "from src.domain import Domain\n",
    "from src.interpolation import SplineInter\n",
    "from src.transformations import Affine2d\n",
    "from src.plotting import view_image_2d, plot_grid_2d\n",
    "from src.super_resolution_tools import *\n",
    "from src.transformations import Affine2d\n",
    "from src.LinearOperator import LinearOperator\n",
    "from src.lanczos import lanczos_tridiag\n",
    "# from src.conjugate_gradient import conjugate_gradient\n",
    "from src.utils import * \n",
    "from src.optimization import *\n",
    "import torch.func as func\n",
    "from src.distance import SSDDistance\n",
    "import time\n",
    "\n",
    "torch.set_default_dtype(torch.float64)"
   ]
  },
  {
   "cell_type": "code",
   "execution_count": 2,
   "metadata": {},
   "outputs": [
    {
     "name": "stdout",
     "output_type": "stream",
     "text": [
      "tensor([[105.7458,  19.2671,  21.9050, -34.2132,  13.2772],\n",
      "        [ 19.2671,  87.8219, -24.7392,  -5.9891, -10.6498],\n",
      "        [ 21.9050, -24.7392,  70.7085, -17.2125,  -8.6480],\n",
      "        [-34.2132,  -5.9891, -17.2125,  83.5980,  -3.2949],\n",
      "        [ 13.2772, -10.6498,  -8.6480,  -3.2949,  65.4531]])\n",
      "tensor([125.9819,  65.7109,  42.0138,  22.8883,  56.1377])\n"
     ]
    }
   ],
   "source": [
    "As = torch.randn(10, 5,5)\n",
    "As = As @ As.transpose(1,2)\n",
    "As = As + 0.1 * torch.eye(5)\n",
    "def A(x):\n",
    "    # multiply A with x along 0th dimension without using einsum\n",
    "    return torch.sum(As * (x**2).unsqueeze(1).unsqueeze(1), dim=0)\n",
    "\n",
    "\n",
    "x = torch.randn(10)\n",
    "Ax = A(x)\n",
    "b = torch.sum(Ax,dim=1)\n",
    "print(Ax)\n",
    "print(b)\n",
    "\n"
   ]
  },
  {
   "cell_type": "code",
   "execution_count": 70,
   "metadata": {},
   "outputs": [],
   "source": [
    "def conjugate_gradient(A, b, x0, max_iter=50, tol=1e-15):\n",
    "    x = x0.clone()\n",
    "    r = b - A@x\n",
    "    p = r.clone()\n",
    "    rsold = r.dot(r)\n",
    "        \n",
    "    for i in range(max_iter):\n",
    "        Ap = A@p\n",
    "        alpha = rsold / p.dot(Ap)\n",
    "        x = x + alpha * p  \n",
    "        r = r - alpha * Ap  \n",
    "        rsnew = r.dot(r)\n",
    "        if torch.sqrt(rsnew/rsold) < tol:\n",
    "            print(f\"tol reached {i}\")\n",
    "            break\n",
    "        p = r + (rsnew / rsold) * p\n",
    "        rsold = rsnew\n",
    "    # print(f\"residual norm: {torch.sqrt(rsnew/r0)}\")\n",
    "    return x\n",
    "    \n",
    "\n",
    "\n",
    "def res_fn(x, cg_iter):\n",
    "    Ax = A(x)\n",
    "    n = Ax.shape[1]\n",
    "    f0 = conjugate_gradient(Ax, b, torch.zeros(n), max_iter=cg_iter, tol=1e-15)\n",
    "    \n",
    "    return f0\n",
    "\n",
    "def Jac_fn(wp_vec, cg_iter):\n",
    "    return func.jacfwd(res_fn)(wp_vec, cg_iter).detach().squeeze()\n",
    "\n"
   ]
  },
  {
   "cell_type": "code",
   "execution_count": 71,
   "metadata": {},
   "outputs": [
    {
     "name": "stdout",
     "output_type": "stream",
     "text": [
      "Error at h=1.000e+00: 1.851e+00 vs 1.405e+00\n",
      "Error at h=5.000e-01: 9.578e-01 vs 6.811e-01\n",
      "Error at h=2.500e-01: 3.903e-01 vs 2.312e-01\n",
      "Error at h=1.250e-01: 1.565e-01 vs 6.490e-02\n",
      "Error at h=6.250e-02: 6.793e-02 vs 1.695e-02\n",
      "Error at h=3.125e-02: 3.155e-02 vs 4.316e-03\n",
      "Error at h=1.562e-02: 1.522e-02 vs 1.088e-03\n",
      "Error at h=7.812e-03: 7.477e-03 vs 2.730e-04\n",
      "Error at h=3.906e-03: 3.706e-03 vs 6.836e-05\n",
      "Error at h=1.953e-03: 1.845e-03 vs 1.711e-05\n",
      "Error at h=9.766e-04: 9.207e-04 vs 4.278e-06\n",
      "Error at h=4.883e-04: 4.599e-04 vs 1.070e-06\n",
      "Error at h=2.441e-04: 2.298e-04 vs 2.675e-07\n",
      "Error at h=1.221e-04: 1.149e-04 vs 6.688e-08\n",
      "Error at h=6.104e-05: 5.743e-05 vs 1.672e-08\n",
      "Error at h=3.052e-05: 2.871e-05 vs 4.180e-09\n",
      "Error at h=1.526e-05: 1.436e-05 vs 1.045e-09\n",
      "Error at h=7.629e-06: 7.178e-06 vs 2.612e-10\n",
      "Error at h=3.815e-06: 3.589e-06 vs 6.531e-11\n",
      "Error at h=1.907e-06: 1.794e-06 vs 1.633e-11\n",
      "Error at h=9.537e-07: 8.972e-07 vs 4.081e-12\n",
      "Error at h=4.768e-07: 4.486e-07 vs 1.021e-12\n",
      "Error at h=2.384e-07: 2.243e-07 vs 2.548e-13\n",
      "Error at h=1.192e-07: 1.122e-07 vs 6.215e-14\n",
      "Error at h=5.960e-08: 5.608e-08 vs 1.523e-14\n",
      "Error at h=2.980e-08: 2.804e-08 vs 2.816e-15\n",
      "Error at h=1.490e-08: 1.402e-08 vs 3.189e-16\n",
      "Error at h=7.451e-09: 7.010e-09 vs 9.392e-16\n",
      "Error at h=3.725e-09: 3.505e-09 vs 4.013e-16\n",
      "Error at h=1.863e-09: 1.752e-09 vs 5.095e-16\n",
      "Error at h=9.313e-10: 8.762e-10 vs 1.396e-15\n",
      "Error at h=4.657e-10: 4.381e-10 vs 5.979e-16\n",
      "Error at h=2.328e-10: 2.190e-10 vs 4.871e-16\n",
      "Error at h=1.164e-10: 1.095e-10 vs 5.274e-16\n",
      "Error at h=5.821e-11: 5.476e-11 vs 1.068e-15\n",
      "Error at h=2.910e-11: 2.738e-11 vs 9.742e-16\n",
      "Error at h=1.455e-11: 1.369e-11 vs 9.486e-16\n",
      "Error at h=7.276e-12: 6.845e-12 vs 4.965e-16\n",
      "Error at h=3.638e-12: 3.422e-12 vs 5.979e-16\n",
      "Error at h=1.819e-12: 1.711e-12 vs 9.421e-16\n"
     ]
    }
   ],
   "source": [
    "cg_iter = 4\n",
    "x0 = torch.randn(10)\n",
    "res = res_fn(x0, cg_iter)\n",
    "J = Jac_fn(x0, cg_iter)\n",
    "dw = torch.randn_like(x0)  \n",
    "dres = J @ dw\n",
    "\n",
    "for i in range(40):\n",
    "    h = 0.5**i\n",
    "    rest = res_fn(x0 + h * dw, cg_iter)\n",
    "    \n",
    "    err0 = torch.norm(res - rest)\n",
    "    err1 = torch.norm(res + h * dres - rest)\n",
    "    print(f\"Error at h={h:.3e}: {err0:.3e} vs {err1:.3e}\")\n",
    "    \n"
   ]
  },
  {
   "cell_type": "code",
   "execution_count": null,
   "metadata": {},
   "outputs": [],
   "source": []
  },
  {
   "cell_type": "code",
   "execution_count": null,
   "metadata": {},
   "outputs": [],
   "source": []
  }
 ],
 "metadata": {
  "kernelspec": {
   "display_name": "ir_2",
   "language": "python",
   "name": "python3"
  },
  "language_info": {
   "codemirror_mode": {
    "name": "ipython",
    "version": 3
   },
   "file_extension": ".py",
   "mimetype": "text/x-python",
   "name": "python",
   "nbconvert_exporter": "python",
   "pygments_lexer": "ipython3",
   "version": "3.11.9"
  }
 },
 "nbformat": 4,
 "nbformat_minor": 2
}
