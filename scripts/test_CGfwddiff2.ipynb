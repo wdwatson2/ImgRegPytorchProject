{
 "cells": [
  {
   "cell_type": "code",
   "execution_count": 1,
   "metadata": {},
   "outputs": [],
   "source": [
    "# Import python directory\n",
    "import sys\n",
    "sys.path.append('..')\n",
    "\n",
    "import torch\n",
    "from PIL import Image\n",
    "import matplotlib.pyplot as plt\n",
    "from src.domain import Domain\n",
    "from src.interpolation import SplineInter\n",
    "from src.transformations import Affine2d\n",
    "from src.plotting import view_image_2d, plot_grid_2d\n",
    "from src.super_resolution_tools import *\n",
    "from src.transformations import Affine2d\n",
    "from src.LinearOperator import LinearOperator\n",
    "from src.lanczos import lanczos_tridiag\n",
    "# from src.conjugate_gradient import conjugate_gradient\n",
    "from src.utils import * \n",
    "from src.optimization import *\n",
    "import torch.func as func\n",
    "from src.distance import SSDDistance\n",
    "import time\n",
    "\n",
    "torch.set_default_dtype(torch.float64)"
   ]
  },
  {
   "cell_type": "code",
   "execution_count": 2,
   "metadata": {},
   "outputs": [
    {
     "name": "stdout",
     "output_type": "stream",
     "text": [
      "tensor([[44.5249,  1.3237,  3.7101,  6.1252,  5.2042],\n",
      "        [ 1.3237, 52.4561, 14.6625,  5.8509, -8.5327],\n",
      "        [ 3.7101, 14.6625, 52.4407,  1.6485,  2.7136],\n",
      "        [ 6.1252,  5.8509,  1.6485, 43.3197, -2.9519],\n",
      "        [ 5.2042, -8.5327,  2.7136, -2.9519, 40.1944]])\n",
      "tensor([60.8881, 65.7605, 75.1754, 53.9924, 36.6276])\n"
     ]
    }
   ],
   "source": [
    "As = torch.randn(10, 5,5)\n",
    "As = As @ As.transpose(1,2)\n",
    "As = As + 0.1 * torch.eye(5)\n",
    "def A(x):\n",
    "    # multiply A with x along 0th dimension without using einsum\n",
    "    return torch.sum(As * (x**2).unsqueeze(1).unsqueeze(1), dim=0)\n",
    "\n",
    "\n",
    "x = torch.randn(10)\n",
    "Ax = A(x)\n",
    "b = torch.sum(Ax,dim=1)\n",
    "print(Ax)\n",
    "print(b)\n",
    "\n"
   ]
  },
  {
   "cell_type": "code",
   "execution_count": 3,
   "metadata": {},
   "outputs": [],
   "source": [
    "def conjugate_gradient(A, b, x0, max_iter=50, tol=1e-15):\n",
    "    x = x0.clone()\n",
    "    r = b - A@x\n",
    "    p = r.clone()\n",
    "    rsold = r.dot(r)\n",
    "        \n",
    "    for i in range(max_iter):\n",
    "        Ap = A@p\n",
    "        alpha = rsold / p.dot(Ap)\n",
    "        x = x + alpha * p  \n",
    "        r = r - alpha * Ap  \n",
    "        rsnew = r.dot(r)\n",
    "        if torch.sqrt(rsnew/rsold) < tol:\n",
    "            print(f\"tol reached {i}\")\n",
    "            break\n",
    "        p = r + (rsnew / rsold) * p\n",
    "        rsold = rsnew\n",
    "    # print(f\"residual norm: {torch.sqrt(rsnew/r0)}\")\n",
    "    return x\n",
    "    \n",
    "\n",
    "\n",
    "def res_fn(x, cg_iter):\n",
    "    Ax = A(x)\n",
    "    n = Ax.shape[1]\n",
    "    f0 = conjugate_gradient(Ax, b, torch.zeros(n), max_iter=cg_iter, tol=1e-15)\n",
    "    \n",
    "    return f0\n",
    "\n",
    "def Jac_fn(wp_vec, cg_iter):\n",
    "    return func.jacfwd(res_fn)(wp_vec, cg_iter).detach().squeeze()\n",
    "\n"
   ]
  },
  {
   "cell_type": "code",
   "execution_count": 4,
   "metadata": {},
   "outputs": [
    {
     "name": "stdout",
     "output_type": "stream",
     "text": [
      "Error at h=1.000e+00: 1.264e+00 vs 1.127e+00\n",
      "Error at h=5.000e-01: 7.744e-01 vs 3.899e-01\n",
      "Error at h=2.500e-01: 4.361e-01 vs 1.143e-01\n",
      "Error at h=1.250e-01: 2.326e-01 vs 3.074e-02\n",
      "Error at h=6.250e-02: 1.208e-01 vs 8.037e-03\n",
      "Error at h=3.125e-02: 6.122e-02 vs 2.051e-03\n",
      "Error at h=1.562e-02: 3.088e-02 vs 5.164e-04\n",
      "Error at h=7.812e-03: 1.551e-02 vs 1.295e-04\n",
      "Error at h=3.906e-03: 7.770e-03 vs 3.243e-05\n",
      "Error at h=1.953e-03: 3.889e-03 vs 8.114e-06\n",
      "Error at h=9.766e-04: 1.946e-03 vs 2.029e-06\n",
      "Error at h=4.883e-04: 9.731e-04 vs 5.074e-07\n",
      "Error at h=2.441e-04: 4.866e-04 vs 1.269e-07\n",
      "Error at h=1.221e-04: 2.433e-04 vs 3.172e-08\n",
      "Error at h=6.104e-05: 1.217e-04 vs 7.930e-09\n",
      "Error at h=3.052e-05: 6.083e-05 vs 1.982e-09\n",
      "Error at h=1.526e-05: 3.042e-05 vs 4.956e-10\n",
      "Error at h=7.629e-06: 1.521e-05 vs 1.239e-10\n",
      "Error at h=3.815e-06: 7.604e-06 vs 3.098e-11\n",
      "Error at h=1.907e-06: 3.802e-06 vs 7.744e-12\n",
      "Error at h=9.537e-07: 1.901e-06 vs 1.935e-12\n",
      "Error at h=4.768e-07: 9.506e-07 vs 4.837e-13\n",
      "Error at h=2.384e-07: 4.753e-07 vs 1.207e-13\n",
      "Error at h=1.192e-07: 2.376e-07 vs 2.988e-14\n",
      "Error at h=5.960e-08: 1.188e-07 vs 7.321e-15\n",
      "Error at h=2.980e-08: 5.941e-08 vs 1.601e-15\n",
      "Error at h=1.490e-08: 2.970e-08 vs 7.448e-16\n",
      "Error at h=7.451e-09: 1.485e-08 vs 5.088e-16\n",
      "Error at h=3.725e-09: 7.426e-09 vs 7.692e-16\n",
      "Error at h=1.863e-09: 3.713e-09 vs 5.439e-16\n",
      "Error at h=9.313e-10: 1.857e-09 vs 8.671e-16\n",
      "Error at h=4.657e-10: 9.283e-10 vs 5.439e-16\n",
      "Error at h=2.328e-10: 4.641e-10 vs 7.772e-16\n",
      "Error at h=1.164e-10: 2.321e-10 vs 4.965e-16\n",
      "Error at h=5.821e-11: 1.160e-10 vs 4.578e-16\n",
      "Error at h=2.910e-11: 5.802e-11 vs 5.979e-16\n",
      "Error at h=1.455e-11: 2.901e-11 vs 5.439e-16\n",
      "Error at h=7.276e-12: 1.450e-11 vs 5.875e-16\n",
      "Error at h=3.638e-12: 7.252e-12 vs 7.364e-16\n",
      "Error at h=1.819e-12: 3.626e-12 vs 6.753e-16\n"
     ]
    }
   ],
   "source": [
    "cg_iter = 4\n",
    "x0 = torch.randn(10)\n",
    "res = res_fn(x0, cg_iter)\n",
    "J = Jac_fn(x0, cg_iter)\n",
    "dw = torch.randn_like(x0)  \n",
    "dres = J @ dw\n",
    "\n",
    "for i in range(40):\n",
    "    h = 0.5**i\n",
    "    rest = res_fn(x0 + h * dw, cg_iter)\n",
    "    \n",
    "    err0 = torch.norm(res - rest)\n",
    "    err1 = torch.norm(res + h * dres - rest)\n",
    "    print(f\"Error at h={h:.3e}: {err0:.3e} vs {err1:.3e}\")\n",
    "    \n"
   ]
  },
  {
   "cell_type": "code",
   "execution_count": null,
   "metadata": {},
   "outputs": [],
   "source": []
  },
  {
   "cell_type": "code",
   "execution_count": null,
   "metadata": {},
   "outputs": [],
   "source": []
  }
 ],
 "metadata": {
  "kernelspec": {
   "display_name": "ir_2",
   "language": "python",
   "name": "python3"
  },
  "language_info": {
   "codemirror_mode": {
    "name": "ipython",
    "version": 3
   },
   "file_extension": ".py",
   "mimetype": "text/x-python",
   "name": "python",
   "nbconvert_exporter": "python",
   "pygments_lexer": "ipython3",
   "version": "3.11.9"
  }
 },
 "nbformat": 4,
 "nbformat_minor": 2
}
